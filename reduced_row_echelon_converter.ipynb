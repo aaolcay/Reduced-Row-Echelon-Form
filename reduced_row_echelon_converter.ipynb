{
  "nbformat": 4,
  "nbformat_minor": 0,
  "metadata": {
    "colab": {
      "provenance": [],
      "authorship_tag": "ABX9TyNA/obASFr8UUsfA+CAvuPi",
      "include_colab_link": true
    },
    "kernelspec": {
      "name": "python3",
      "display_name": "Python 3"
    },
    "language_info": {
      "name": "python"
    }
  },
  "cells": [
    {
      "cell_type": "markdown",
      "metadata": {
        "id": "view-in-github",
        "colab_type": "text"
      },
      "source": [
        "<a href=\"https://colab.research.google.com/github/aaolcay/Reduced-Row-Echelon-Form/blob/main/reduced_row_echelon_converter.ipynb\" target=\"_parent\"><img src=\"https://colab.research.google.com/assets/colab-badge.svg\" alt=\"Open In Colab\"/></a>"
      ]
    },
    {
      "cell_type": "markdown",
      "source": [
        "## **Author**\n",
        "The code was written by Abdullah Olcay (University of Southampton). If you want to copy or share the code, please refer to me!\n",
        "\n",
        "For more information contact me: olcayazzam@gmail.com"
      ],
      "metadata": {
        "id": "XfdK8Qvne3iv"
      }
    },
    {
      "cell_type": "markdown",
      "source": [
        "### **Reduced Row-echelon Form Converter (For 2 by 2 Matrices)**\n",
        "We previously introduced what row echelon form means and shared a class that converts a 2 by 2 matrix to its (unreduced) echelon form [here](https://github.com/aaolcay/Row-Echelon-Form/blob/main/row_echelon_converter.ipynb). Now, in this notebook, reduced echelon form is explained and a class is built for that. Below, reduced and unreduced echelon forms are given, for more details again author recommends you to look at the previous notebook [shared](https://github.com/aaolcay/Row-Echelon-Form/blob/main/row_echelon_converter.ipynb)."
      ],
      "metadata": {
        "id": "nF2HaWJ633gB"
      }
    },
    {
      "cell_type": "markdown",
      "source": [
        "#### **Reduced and Unreduced Row-echelon Forms (For 2 by 2 Matrices)**\n",
        "The row echelon form with the diagonal consisted of ones (1) can be shown with a 3 by 3 matrix.\n",
        "\\begin{align}\n",
        "\\text{Row Echelon Form:}\\\\\n",
        "\\end{align}\n",
        "\\begin{align}\n",
        "        \\begin{pmatrix} \n",
        "        1 & * & * \\\\\n",
        "        0 & 1 & * \\\\\n",
        "        0 & 0 & 1 \n",
        "        \\end{pmatrix} \n",
        "\\end{align}\n",
        "where, $*$ depicts non-zero values. In reduced row echelon form those are made zeros (0):\n",
        "\\begin{align}\n",
        "\\text{Reduced Row Echelon Form:}\\\\\n",
        "\\end{align}\n",
        "\\begin{align}\n",
        "        \\begin{pmatrix} \n",
        "        1 & 0 & 0 \\\\\n",
        "        0 & 1 & 0 \\\\\n",
        "        0 & 0 & 1 \n",
        "        \\end{pmatrix} \n",
        "\\end{align}"
      ],
      "metadata": {
        "id": "Wkp9YpbgVHfT"
      }
    },
    {
      "cell_type": "code",
      "source": [
        "from sys import exit\n",
        "import numpy as np"
      ],
      "metadata": {
        "id": "VKQiu3_mHtU7"
      },
      "execution_count": 1,
      "outputs": []
    },
    {
      "cell_type": "markdown",
      "source": [
        "### **Row-echelon Form Converter Class**\n",
        "The code cell below includes a class converting any 2D arrays to its reduced row echelon form within 6 processes:\n",
        "1. Divide each row by leftmost coefficient\n",
        "2. Subtract each row from one above\n",
        "3. Divide each row by the leftmost non-zero coefficient\n",
        "  * Find first non-zero element of each row in array/matrix\n",
        "4. Take the below row and multiply it by non-one element in the above row\n",
        "5. Subtract the first row from that\n",
        "\n"
      ],
      "metadata": {
        "id": "ACUa9bGUar5O"
      }
    },
    {
      "cell_type": "code",
      "execution_count": 6,
      "metadata": {
        "id": "gpXz4OU432nO"
      },
      "outputs": [],
      "source": [
        "class echelon_converter:\n",
        "  def __init__(self,\n",
        "               my_matrix):\n",
        "    # check if the matrix 2D\n",
        "    if len(my_matrix.shape)<2:\n",
        "      print(f'Warning: Your matrix must be 2D, but yours is {len(my_matrix.shape)}D')\n",
        "      exit()\n",
        "    self.matrix=my_matrix\n",
        "    self.left_most_coeff() # Step 1\n",
        "    self.subtract() # Step 2\n",
        "    indices_column = self.non_zero_element_finder() # Acquire first non-zero column indices\n",
        "    self.indices_column = indices_column\n",
        "    self.left_most_coeff_two() # Step 3 \n",
        "    self.multiply_non_one_element() # Step 4\n",
        "\n",
        "# 1. Divide each row by the leftmost coefficient \n",
        "  def left_most_coeff(self):\n",
        "    matrix=self.matrix\n",
        "    for i in range(matrix.shape[0]):\n",
        "       matrix[i,:] = matrix[i,:]/matrix[i,0]\n",
        "    self.matrix_ones = matrix\n",
        "\n",
        "# 2. Subtract consecutive rows\n",
        "  def subtract(self):\n",
        "    matrix=self.matrix_ones\n",
        "    for i in reversed(range(matrix.shape[0])):\n",
        "      matrix[i,:] = matrix[i,:]-matrix[i-1,:]\n",
        "      if i==1:\n",
        "        break\n",
        "    self.matrix_new = matrix\n",
        "\n",
        "# 3. Divide each row by the leftmost coefficient again \n",
        "  def left_most_coeff_two(self):\n",
        "    indices_column = self.indices_column\n",
        "    matrix=self.matrix_new\n",
        "    for i in range(matrix.shape[0]):\n",
        "       matrix[i,:] = matrix[i,:]/matrix[i,int(indices_column[i])]\n",
        "    self.matrix_row_echelon = matrix\n",
        "    return self.matrix_row_echelon\n",
        "\n",
        "# Find first non-zero element of each row in array/matrix\n",
        "  def non_zero_element_finder(self):\n",
        "    matrix = self.matrix_new\n",
        "    # checker\n",
        "    indices_column = np.zeros(matrix.shape[0])\n",
        "    for i in range(matrix.shape[0]):\n",
        "      for k in range(matrix.shape[1]):\n",
        "        if matrix[i,k]!=0:\n",
        "          indices_column[i] = k\n",
        "          break\n",
        "    return indices_column\n",
        "\n",
        "# 4. Take below row and multiply it by non-one element in the above row\n",
        "  def multiply_non_one_element(self):\n",
        "    matrix_row_echelon = self.matrix_row_echelon\n",
        "    for k in range(matrix_row_echelon.shape[1]):\n",
        "      if matrix_row_echelon[0,k]!=1:\n",
        "        index = k\n",
        "    non_one_element = matrix_row_echelon[0,index]\n",
        "    self.multiplied = non_one_element*matrix_row_echelon[1,:]\n",
        "\n",
        "# 5. Subtract the first row from t\n",
        "  def subtract_multiplied(self):\n",
        "    self.matrix_row_echelon[0,:] = self.matrix_row_echelon[0,:] - self.multiplied\n",
        "    reduced_row_echelon = self.matrix_row_echelon\n",
        "    return reduced_row_echelon"
      ]
    },
    {
      "cell_type": "markdown",
      "source": [
        "### **Run the class**\n",
        "In the code cell below, enter your 2D matrix. `echelon_form` results in echelon form of the matrix you've given. Are you sure Abdullah? "
      ],
      "metadata": {
        "id": "pXwBNyUJYOsK"
      }
    },
    {
      "cell_type": "code",
      "source": [
        "if __name__ == \"__main__\":\n",
        "    matrix = np.array([[5.,1.],[4.,-3.]])\n",
        "    print(f'Entered matrix is:\\n{matrix}')\n",
        "    reduced_echelon_form = echelon_converter(matrix)\n",
        "    reduced_echelon_form = reduced_echelon_form.subtract_multiplied()\n",
        "    print(f'Its reduced echelon form is:\\n{reduced_echelon_form}')\n",
        "else:\n",
        "    print(__name__)"
      ],
      "metadata": {
        "colab": {
          "base_uri": "https://localhost:8080/"
        },
        "id": "oxLi-LnFI4O9",
        "outputId": "d14c03ac-4f42-4bdc-d014-43207420cd16"
      },
      "execution_count": 9,
      "outputs": [
        {
          "output_type": "stream",
          "name": "stdout",
          "text": [
            "Entered matrix is:\n",
            "[[ 5.  1.]\n",
            " [ 4. -3.]]\n",
            "Its reduced echelon form is:\n",
            "[[ 1.  0.]\n",
            " [-0.  1.]]\n"
          ]
        }
      ]
    },
    {
      "cell_type": "markdown",
      "source": [
        "If you see a value of -0., know that this is basically zero but encoded with minus. In other words, there is no problem 😂 it is 0. If you do not believe me, you can see what IEEE's definition is: https://en.wikipedia.org/wiki/Signed_zero"
      ],
      "metadata": {
        "id": "0t0ADdeSeftQ"
      }
    }
  ]
}